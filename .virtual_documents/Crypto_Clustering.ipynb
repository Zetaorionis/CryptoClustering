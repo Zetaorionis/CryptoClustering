# Import required libraries and dependencies
import pandas as pd
import hvplot.pandas
from sklearn.cluster import KMeans
from sklearn.decomposition import PCA
from sklearn.preprocessing import StandardScaler


# Load the data into a Pandas DataFrame
df_market_data = pd.read_csv(
    "Resources/crypto_market_data.csv",
    index_col="coin_id")

# Display sample data
df_market_data.head(10)


# Generate summary statistics
df_market_data.describe()


# Plot your data to see what's in your DataFrame
df_market_data.hvplot.line(
    width=800,
    height=400,
    rot=90
)








# Use the `StandardScaler()` module from scikit-learn to normalize the data from the CSV file
market_data_scaled = StandardScaler().fit_transform(
    df_market_data[['price_change_percentage_24h', 'price_change_percentage_7d', 
                    'price_change_percentage_14d', 'price_change_percentage_30d',
                    'price_change_percentage_60d',	'price_change_percentage_200d',	'price_change_percentage_1y']])


# Create a DataFrame with the scaled data
df_market_data_scaled = pd.DataFrame(market_data_scaled, 
                                     columns=['price_change_percentage_24h', 'price_change_percentage_7d', 
                    'price_change_percentage_14d', 'price_change_percentage_30d',
                    'price_change_percentage_60d',	'price_change_percentage_200d',	'price_change_percentage_1y'])

# Copy the crypto names from the original data
df_market_data_scaled['coin_id'] = df_market_data.index
# Set the coinid column as index
df_market_data_scaled = df_market_data_scaled.set_index('coin_id')

# Display sample data
df_market_data_scaled.head()








# Create a list with the number of k-values from 1 to 11
k = list(range(1, 11))


# Create an empty list to store the inertia values
inertia = []

# Create a for loop to compute the inertia with each possible value of k
# Inside the loop:
# 1. Create a KMeans model using the loop counter for the n_clusters
for i in k:
    k_model = KMeans(n_clusters=i, random_state=1)
# 2. Fit the model to the data using `df_market_data_scaled`
    k_model.fit(df_market_data_scaled)
# 3. Append the model.inertia_ to the inertia list
    inertia.append(k_model.inertia_)


# Create a dictionary with the data to plot the Elbow curve
elbow_data = {"k": k, "inertia": inertia}

# Create a DataFrame with the data to plot the Elbow curve
df_elbow = pd.DataFrame(elbow_data)


# Plot a line chart with all the inertia values computed with 
# the different values of k to visually identify the optimal value for k.
elbow = df_elbow.hvplot.line(
    x="k", 
    y="inertia", 
    title="Elbow Curve", 
    xticks=k)

elbow











# Initialize the K-Means model using the best value for k
model = KMeans(n_clusters=4 , random_state=1)


# Fit the K-Means model using the scaled data
model.fit(df_market_data_scaled)


# Predict the clusters to group the cryptocurrencies using the scaled data
stock_clusters = model.predict(df_market_data_scaled)

# Print the resulting array of cluster values.
print(stock_clusters)


# Create a copy of the DataFrame
df_market_data_scaled_predictions = df_market_data_scaled.copy()


# Add a new column to the DataFrame with the predicted clusters
df_market_data_scaled_predictions["PredictedCluster"] = stock_clusters

# Display sample data
df_market_data_scaled_predictions.head()


# Create a scatter plot using hvPlot by setting 
# `x="price_change_percentage_24h"` and `y="price_change_percentage_7d"`. 
# Color the graph points with the labels found using K-Means and 
# add the crypto name in the `hover_cols` parameter to identify 
# the cryptocurrency represented by each data point.
km_colors= df_market_data_scaled_predictions['PredictedCluster']
market_scaled_plot = df_market_data_scaled_predictions.hvplot.scatter(
    x="price_change_percentage_24h",
    y="price_change_percentage_7d",
    color=km_colors,
    hover_cols ="coin_id"
)

market_scaled_plot








# Create a PCA model instance and set `n_components=3`.
pca = PCA(n_components=3)


# Use the PCA model with `fit_transform` to reduce to 
# three principal components.
market_pca = pca.fit_transform(df_market_data_scaled)
# View the first five rows of the DataFrame. 
market_pca[:5]


# Retrieve the explained variance to determine how much information 
# can be attributed to each principal component.
pca.explained_variance_ratio_





# Create a new DataFrame with the PCA data.
df_market_data_pca = pd.DataFrame(
    market_pca,
    columns=["PCA1", "PCA2", "PCA3"]
)

# Copy the crypto names from the original data
df_market_data_pca['coin_id'] = df_market_data.index
# Set the coinid column as index
df_market_data_pca = df_market_data_pca.set_index('coin_id')


# Display sample data
df_market_data_pca.head()








# Create a list with the number of k-values from 1 to 11
k = list(range(1, 11))


# Create an empty list to store the inertia values
inertia = []


# Create a for loop to compute the inertia with each possible value of k
# Inside the loop:
# 1. Create a KMeans model using the loop counter for the n_clusters
for i in k:
    k_model = KMeans(n_clusters=i, random_state=1)
# 2. Fit the model to the data using `df_market_data_pca`
    k_model.fit(df_market_data_pca)
# 3. Append the model.inertia_ to the inertia list
    inertia.append(k_model.inertia_)


# Create a dictionary with the data to plot the Elbow curve
elbow_data = {"k": k, "inertia": inertia}
# Create a DataFrame with the data to plot the Elbow curve
df_elbow = pd.DataFrame(elbow_data)


# Plot a line chart with all the inertia values computed with 
# the different values of k to visually identify the optimal value for k.
pca_elbow = df_elbow.hvplot.line(
    x="k", 
    y="inertia", 
    title="Elbow Curve", 
    xticks=k
)

pca_elbow








# Initialize the K-Means model using the best value for k
model = KMeans(n_clusters=4, random_state=0)


# Fit the K-Means model using the PCA data
model.fit(df_market_data_pca)


# Predict the clusters to group the cryptocurrencies using the PCA data
k_4 = model.predict(df_market_data_pca)

# Print the resulting array of cluster values.
print(k_4)


# Create a copy of the DataFrame with the PCA data

market_pca_predictions_df = df_market_data_pca.copy()
# Add a new column to the DataFrame with the predicted clusters
market_pca_predictions_df['PredictedClusters'] = k_4

# Display sample data
market_pca_predictions_df.head()


# Create a scatter plot using hvPlot by setting 
# `x="PC1"` and `y="PC2"`. 
# Color the graph points with the labels found using K-Means and 
# add the crypto name in the `hover_cols` parameter to identify 
# the cryptocurrency represented by each data point.
km_colors= market_pca_predictions_df['PredictedClusters']
pca_market_scaled_plot = market_pca_predictions_df.hvplot.scatter(
    x="PCA1",
    y="PCA2",
    color=km_colors,
    hover_cols ="coin_id"
)

pca_market_scaled_plot





# Composite plot to contrast the Elbow curves
(elbow + pca_elbow).cols(1)


# Composite plot to contrast the clusters
(market_scaled_plot + pca_market_scaled_plot).cols(1)






